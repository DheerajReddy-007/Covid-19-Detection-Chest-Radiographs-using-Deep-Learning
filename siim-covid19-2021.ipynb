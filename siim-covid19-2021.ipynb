{
 "cells": [
  {
   "cell_type": "code",
   "execution_count": 1,
   "id": "present-brighton",
   "metadata": {
    "execution": {
     "iopub.execute_input": "2021-08-06T12:31:30.758899Z",
     "iopub.status.busy": "2021-08-06T12:31:30.748574Z",
     "iopub.status.idle": "2021-08-06T12:34:53.120589Z",
     "shell.execute_reply": "2021-08-06T12:34:53.121085Z",
     "shell.execute_reply.started": "2021-07-31T12:52:13.841888Z"
    },
    "papermill": {
     "duration": 202.402622,
     "end_time": "2021-08-06T12:34:53.121393",
     "exception": false,
     "start_time": "2021-08-06T12:31:30.718771",
     "status": "completed"
    },
    "tags": []
   },
   "outputs": [
    {
     "name": "stdout",
     "output_type": "stream",
     "text": [
      "Processing ./siim-covid-packages/python_gdcm-3.0.9.0-cp37-cp37m-manylinux2014_x86_64.whl\r\n",
      "Installing collected packages: python-gdcm\r\n",
      "Successfully installed python-gdcm-3.0.9.0\r\n",
      "\r\n",
      "Downloading and Extracting Packages\r\n",
      "######################################################################## | 100% \r\n",
      "Preparing transaction: - \b\bdone\r\n",
      "Verifying transaction: | \b\bdone\r\n",
      "Executing transaction: - \b\b\\ \b\b| \b\b/ \b\b- \b\b\\ \b\b| \b\bdone\r\n",
      "\r\n",
      "Downloading and Extracting Packages\r\n",
      "######################################################################## | 100% \r\n",
      "Preparing transaction: - \b\bdone\r\n",
      "Verifying transaction: | \b\bdone\r\n",
      "Executing transaction: - \b\bdone\r\n",
      "Processing ./siim-covid-packages/timm-0.4.5-py3-none-any.whl\r\n",
      "Requirement already satisfied: torchvision in /opt/conda/lib/python3.7/site-packages (from timm==0.4.5) (0.8.1)\r\n",
      "Requirement already satisfied: torch>=1.4 in /opt/conda/lib/python3.7/site-packages (from timm==0.4.5) (1.7.0)\r\n",
      "Requirement already satisfied: future in /opt/conda/lib/python3.7/site-packages (from torch>=1.4->timm==0.4.5) (0.18.2)\r\n",
      "Requirement already satisfied: typing_extensions in /opt/conda/lib/python3.7/site-packages (from torch>=1.4->timm==0.4.5) (3.7.4.3)\r\n",
      "Requirement already satisfied: dataclasses in /opt/conda/lib/python3.7/site-packages (from torch>=1.4->timm==0.4.5) (0.6)\r\n",
      "Requirement already satisfied: numpy in /opt/conda/lib/python3.7/site-packages (from torch>=1.4->timm==0.4.5) (1.19.5)\r\n",
      "Requirement already satisfied: pillow>=4.1.1 in /opt/conda/lib/python3.7/site-packages (from torchvision->timm==0.4.5) (7.2.0)\r\n",
      "Installing collected packages: timm\r\n",
      "Successfully installed timm-0.4.5\r\n",
      "Processing ./siim-covid-packages/antlr4-python3-runtime-4.8.tar.gz\r\n",
      "Building wheels for collected packages: antlr4-python3-runtime\r\n",
      "  Building wheel for antlr4-python3-runtime (setup.py) ... \u001b[?25l-\b \b\\\b \bdone\r\n",
      "\u001b[?25h  Created wheel for antlr4-python3-runtime: filename=antlr4_python3_runtime-4.8-py3-none-any.whl size=141230 sha256=4d62b22268d0abdd16ae22fb5e9e0f5e338c140807704f248cf6cc5a72983c27\r\n",
      "  Stored in directory: /root/.cache/pip/wheels/81/5d/e6/9eec3b162b21d3ef4aec474d0858db18b7264db4ac7f79eff6\r\n",
      "Successfully built antlr4-python3-runtime\r\n",
      "Installing collected packages: antlr4-python3-runtime\r\n",
      "Successfully installed antlr4-python3-runtime-4.8\r\n",
      "Processing ./siim-covid-packages/pycocotools-2.0.2.tar.gz\r\n",
      "Requirement already satisfied: setuptools>=18.0 in /opt/conda/lib/python3.7/site-packages (from pycocotools==2.0.2) (49.6.0.post20210108)\r\n",
      "Requirement already satisfied: cython>=0.27.3 in /opt/conda/lib/python3.7/site-packages (from pycocotools==2.0.2) (0.29.23)\r\n",
      "Requirement already satisfied: matplotlib>=2.1.0 in /opt/conda/lib/python3.7/site-packages (from pycocotools==2.0.2) (3.4.1)\r\n",
      "Requirement already satisfied: kiwisolver>=1.0.1 in /opt/conda/lib/python3.7/site-packages (from matplotlib>=2.1.0->pycocotools==2.0.2) (1.3.1)\r\n",
      "Requirement already satisfied: python-dateutil>=2.7 in /opt/conda/lib/python3.7/site-packages (from matplotlib>=2.1.0->pycocotools==2.0.2) (2.8.1)\r\n",
      "Requirement already satisfied: numpy>=1.16 in /opt/conda/lib/python3.7/site-packages (from matplotlib>=2.1.0->pycocotools==2.0.2) (1.19.5)\r\n",
      "Requirement already satisfied: pillow>=6.2.0 in /opt/conda/lib/python3.7/site-packages (from matplotlib>=2.1.0->pycocotools==2.0.2) (7.2.0)\r\n",
      "Requirement already satisfied: cycler>=0.10 in /opt/conda/lib/python3.7/site-packages (from matplotlib>=2.1.0->pycocotools==2.0.2) (0.10.0)\r\n",
      "Requirement already satisfied: pyparsing>=2.2.1 in /opt/conda/lib/python3.7/site-packages (from matplotlib>=2.1.0->pycocotools==2.0.2) (2.4.7)\r\n",
      "Requirement already satisfied: six in /opt/conda/lib/python3.7/site-packages (from cycler>=0.10->matplotlib>=2.1.0->pycocotools==2.0.2) (1.15.0)\r\n",
      "Building wheels for collected packages: pycocotools\r\n",
      "  Building wheel for pycocotools (setup.py) ... \u001b[?25l-\b \b\\\b \b|\b \b/\b \b-\b \b\\\b \b|\b \b/\b \b-\b \bdone\r\n",
      "\u001b[?25h  Created wheel for pycocotools: filename=pycocotools-2.0.2-cp37-cp37m-linux_x86_64.whl size=272449 sha256=7df682b727501874d509c97e5cbb2fa0293999d3f6fb0c81cfa917362706ea0d\r\n",
      "  Stored in directory: /root/.cache/pip/wheels/8a/cf/b7/8d6df08fad0deb3ccba1f810e0e50d517e97ef3bc9f6a1bc5b\r\n",
      "Successfully built pycocotools\r\n",
      "Installing collected packages: pycocotools\r\n",
      "Successfully installed pycocotools-2.0.2\r\n",
      "Processing ./siim-covid-packages/omegaconf-2.0.6-py3-none-any.whl\r\n",
      "Requirement already satisfied: typing-extensions in /opt/conda/lib/python3.7/site-packages (from omegaconf==2.0.6) (3.7.4.3)\r\n",
      "Requirement already satisfied: PyYAML>=5.1.* in /opt/conda/lib/python3.7/site-packages (from omegaconf==2.0.6) (5.3.1)\r\n",
      "Installing collected packages: omegaconf\r\n",
      "Successfully installed omegaconf-2.0.6\r\n",
      "Processing ./siim-covid-packages/ensemble_boxes-1.0.6-py3-none-any.whl\r\n",
      "Requirement already satisfied: numpy in /opt/conda/lib/python3.7/site-packages (from ensemble-boxes==1.0.6) (1.19.5)\r\n",
      "Requirement already satisfied: pandas in /opt/conda/lib/python3.7/site-packages (from ensemble-boxes==1.0.6) (1.1.5)\r\n",
      "Requirement already satisfied: numba in /opt/conda/lib/python3.7/site-packages (from ensemble-boxes==1.0.6) (0.53.1)\r\n",
      "Requirement already satisfied: llvmlite<0.37,>=0.36.0rc1 in /opt/conda/lib/python3.7/site-packages (from numba->ensemble-boxes==1.0.6) (0.36.0)\r\n",
      "Requirement already satisfied: setuptools in /opt/conda/lib/python3.7/site-packages (from numba->ensemble-boxes==1.0.6) (49.6.0.post20210108)\r\n",
      "Requirement already satisfied: python-dateutil>=2.7.3 in /opt/conda/lib/python3.7/site-packages (from pandas->ensemble-boxes==1.0.6) (2.8.1)\r\n",
      "Requirement already satisfied: pytz>=2017.2 in /opt/conda/lib/python3.7/site-packages (from pandas->ensemble-boxes==1.0.6) (2021.1)\r\n",
      "Requirement already satisfied: six>=1.5 in /opt/conda/lib/python3.7/site-packages (from python-dateutil>=2.7.3->pandas->ensemble-boxes==1.0.6) (1.15.0)\r\n",
      "Installing collected packages: ensemble-boxes\r\n",
      "Successfully installed ensemble-boxes-1.0.6\r\n"
     ]
    }
   ],
   "source": [
    "!cp -r ../input/siim-covid-packages .\n",
    "!mv ./siim-covid-packages/efficientnet-pytorch-0.7.0-pyhd8ed1ab_0.tar.xyz ./siim-covid-packages/efficientnet-pytorch-0.7.0-pyhd8ed1ab_0.tar.bz2\n",
    "!mv ./siim-covid-packages/pretrainedmodels-0.7.4-py37hc8dfbb8_0.tar.xyz ./siim-covid-packages/pretrainedmodels-0.7.4-py37hc8dfbb8_0.tar.bz2\n",
    "!mv ./siim-covid-packages/antlr4-python3-runtime-4.8.tar.xyz ./siim-covid-packages/antlr4-python3-runtime-4.8.tar.gz\n",
    "!mv ./siim-covid-packages/pycocotools-2.0.2.tar.xyz ./siim-covid-packages/pycocotools-2.0.2.tar.gz\n",
    "\n",
    "!pip install ./siim-covid-packages/python_gdcm-3.0.9.0-cp37-cp37m-manylinux2014_x86_64.whl\n",
    "!conda install ./siim-covid-packages/efficientnet-pytorch-0.7.0-pyhd8ed1ab_0.tar.bz2\n",
    "!conda install ./siim-covid-packages/pretrainedmodels-0.7.4-py37hc8dfbb8_0.tar.bz2\n",
    "!pip install ./siim-covid-packages/timm-0.4.5-py3-none-any.whl\n",
    "!pip install ./siim-covid-packages/antlr4-python3-runtime-4.8.tar.gz\n",
    "!pip install ./siim-covid-packages/pycocotools-2.0.2.tar.gz\n",
    "!pip install ./siim-covid-packages/omegaconf-2.0.6-py3-none-any.whl\n",
    "!pip install ./siim-covid-packages/ensemble_boxes-1.0.6-py3-none-any.whl\n",
    "!rm -rf ./siim-covid-packages"
   ]
  },
  {
   "cell_type": "code",
   "execution_count": 2,
   "id": "soviet-administration",
   "metadata": {
    "execution": {
     "iopub.execute_input": "2021-08-06T12:34:53.172413Z",
     "iopub.status.busy": "2021-08-06T12:34:53.171672Z",
     "iopub.status.idle": "2021-08-06T12:34:55.201085Z",
     "shell.execute_reply": "2021-08-06T12:34:55.200167Z",
     "shell.execute_reply.started": "2021-07-31T12:55:40.476429Z"
    },
    "papermill": {
     "duration": 2.056676,
     "end_time": "2021-08-06T12:34:55.201233",
     "exception": false,
     "start_time": "2021-08-06T12:34:53.144557",
     "status": "completed"
    },
    "tags": []
   },
   "outputs": [],
   "source": [
    "import pandas as pd\n",
    "import os\n",
    "import numpy as np\n",
    "import pydicom\n",
    "import cv2\n",
    "import torch\n",
    "import gc\n",
    "import pickle\n",
    "from tqdm import tqdm\n",
    "import random\n",
    "from ensemble_boxes import weighted_boxes_fusion\n",
    "from multiprocessing import Pool\n",
    "from pydicom.pixel_data_handlers.util import apply_voi_lut"
   ]
  },
  {
   "cell_type": "code",
   "execution_count": 3,
   "id": "operational-median",
   "metadata": {
    "execution": {
     "iopub.execute_input": "2021-08-06T12:34:55.251544Z",
     "iopub.status.busy": "2021-08-06T12:34:55.250274Z",
     "iopub.status.idle": "2021-08-06T12:34:55.253046Z",
     "shell.execute_reply": "2021-08-06T12:34:55.252620Z",
     "shell.execute_reply.started": "2021-07-31T12:55:43.087981Z"
    },
    "papermill": {
     "duration": 0.029079,
     "end_time": "2021-08-06T12:34:55.253151",
     "exception": false,
     "start_time": "2021-08-06T12:34:55.224072",
     "status": "completed"
    },
    "tags": []
   },
   "outputs": [],
   "source": [
    "def load_dict(name):\n",
    "    with open(name, 'rb') as f:\n",
    "        return pickle.load(f)"
   ]
  },
  {
   "cell_type": "code",
   "execution_count": 4,
   "id": "flexible-thumb",
   "metadata": {
    "execution": {
     "iopub.execute_input": "2021-08-06T12:34:55.301583Z",
     "iopub.status.busy": "2021-08-06T12:34:55.301097Z",
     "iopub.status.idle": "2021-08-06T12:34:55.304827Z",
     "shell.execute_reply": "2021-08-06T12:34:55.304403Z",
     "shell.execute_reply.started": "2021-07-31T12:55:43.096769Z"
    },
    "papermill": {
     "duration": 0.029516,
     "end_time": "2021-08-06T12:34:55.304929",
     "exception": false,
     "start_time": "2021-08-06T12:34:55.275413",
     "status": "completed"
    },
    "tags": []
   },
   "outputs": [],
   "source": [
    "classes = [\n",
    "    'Negative for Pneumonia',\n",
    "    'Typical Appearance',\n",
    "    'Indeterminate Appearance',\n",
    "    'Atypical Appearance'\n",
    "]\n",
    "\n",
    "study_submission_classes = {\n",
    "    'Negative for Pneumonia': 'negative',\n",
    "    'Typical Appearance': 'typical',\n",
    "    'Indeterminate Appearance': 'indeterminate',\n",
    "    'Atypical Appearance': 'atypical'\n",
    "}"
   ]
  },
  {
   "cell_type": "code",
   "execution_count": 5,
   "id": "sunset-height",
   "metadata": {
    "execution": {
     "iopub.execute_input": "2021-08-06T12:34:55.363845Z",
     "iopub.status.busy": "2021-08-06T12:34:55.363280Z",
     "iopub.status.idle": "2021-08-06T12:34:59.993716Z",
     "shell.execute_reply": "2021-08-06T12:34:59.994157Z",
     "shell.execute_reply.started": "2021-07-31T12:55:43.105326Z"
    },
    "papermill": {
     "duration": 4.66709,
     "end_time": "2021-08-06T12:34:59.994320",
     "exception": false,
     "start_time": "2021-08-06T12:34:55.327230",
     "status": "completed"
    },
    "tags": []
   },
   "outputs": [
    {
     "name": "stderr",
     "output_type": "stream",
     "text": [
      "100%|██████████| 1214/1214 [00:02<00:00, 565.16it/s]\n"
     ]
    },
    {
     "name": "stdout",
     "output_type": "stream",
     "text": [
      "(2449, 2) 14 1200\n"
     ]
    },
    {
     "data": {
      "text/plain": [
       "2571"
      ]
     },
     "execution_count": 5,
     "metadata": {},
     "output_type": "execute_result"
    }
   ],
   "source": [
    "#### just pick 14 study in public test set intead of 1214 study to save time, don't need to run 1214 study\n",
    "#### now just run kernel on private test study + 14 public test study\n",
    "\n",
    "public_test_meta_df = pd.read_csv('../input/siim-covid-public-test/test_meta.csv')\n",
    "public_test_14_study = list(np.unique(public_test_meta_df.studyid.values))[0:14]\n",
    "public_test_1200_study = []\n",
    "\n",
    "public_test_submisison_df = pd.read_csv('../input/siim-covid-public-test/submission_0.656_20210806.csv')\n",
    "public_test_1200_study_level_output = []\n",
    "public_test_1200_image_level_output = []\n",
    "for studyid, grp in tqdm(public_test_meta_df.groupby('studyid')):\n",
    "    if studyid in public_test_14_study:\n",
    "        continue\n",
    "        \n",
    "    public_test_1200_study.append(studyid)\n",
    "    \n",
    "    study_tmp_df = public_test_submisison_df.loc[public_test_submisison_df['id'] == '{}_study'.format(studyid)]\n",
    "    assert len(study_tmp_df) == 1\n",
    "    public_test_1200_study_level_output.append(['{}_study'.format(studyid), study_tmp_df.PredictionString.values[0]])\n",
    "\n",
    "    for _, row in grp.iterrows():\n",
    "        image_tmp_df = public_test_submisison_df.loc[public_test_submisison_df['id'] == '{}_image'.format(row['imageid'])]\n",
    "        assert len(image_tmp_df) == 1\n",
    "        public_test_1200_image_level_output.append(['{}_image'.format(row['imageid']), image_tmp_df.PredictionString.values[0]])\n",
    "\n",
    "public_test_1200_output = public_test_1200_study_level_output + public_test_1200_image_level_output\n",
    "public_test_1200_submission_df = pd.DataFrame(data=np.array(public_test_1200_output), columns=['id','PredictionString'])\n",
    "public_test_1200_submission_df.to_csv('./submission_1200_study.csv', index=False)\n",
    "print(public_test_1200_submission_df.shape, len(public_test_14_study), len(public_test_1200_study))\n",
    "\n",
    "del public_test_1200_output\n",
    "del public_test_1200_study_level_output\n",
    "del public_test_1200_image_level_output\n",
    "del public_test_submisison_df\n",
    "del public_test_1200_submission_df\n",
    "\n",
    "gc.collect()"
   ]
  },
  {
   "cell_type": "code",
   "execution_count": 6,
   "id": "pointed-ready",
   "metadata": {
    "execution": {
     "iopub.execute_input": "2021-08-06T12:35:00.064502Z",
     "iopub.status.busy": "2021-08-06T12:35:00.063707Z",
     "iopub.status.idle": "2021-08-06T12:35:03.513340Z",
     "shell.execute_reply": "2021-08-06T12:35:03.514430Z",
     "shell.execute_reply.started": "2021-07-31T12:55:48.612721Z"
    },
    "papermill": {
     "duration": 3.491004,
     "end_time": "2021-08-06T12:35:03.514644",
     "exception": false,
     "start_time": "2021-08-06T12:35:00.023640",
     "status": "completed"
    },
    "tags": []
   },
   "outputs": [],
   "source": [
    "### extract dicom to image\n",
    "os.makedirs('./images', exist_ok=True)\n",
    "os.makedirs('./csv', exist_ok=True)\n",
    "\n",
    "class ME:\n",
    "    def __init__(self, StudyInstanceUID, file_path):\n",
    "        self.StudyInstanceUID = StudyInstanceUID\n",
    "        self.file_path = file_path\n",
    "\n",
    "def dicom2image(ele):\n",
    "    image_id = ele.file_path.split('/')[-1].split('.')[0]\n",
    "    dcm_file = pydicom.read_file(ele.file_path)\n",
    "    \n",
    "    PatientID = dcm_file.PatientID\n",
    "    series_id = dcm_file.SeriesInstanceUID\n",
    "    assert image_id == dcm_file.SOPInstanceUID\n",
    "    assert ele.StudyInstanceUID == dcm_file.StudyInstanceUID\n",
    "\n",
    "    data = apply_voi_lut(dcm_file.pixel_array, dcm_file)\n",
    "\n",
    "    if dcm_file.PhotometricInterpretation == \"MONOCHROME1\":\n",
    "        data = np.amax(data) - data\n",
    "\n",
    "    data = data - np.min(data)\n",
    "    data = data / np.max(data)\n",
    "    data = (data * 255).astype(np.uint8)\n",
    "\n",
    "    image_path = './images/{}.png'.format(image_id)\n",
    "    cv2.imwrite(image_path, data)\n",
    "    return [PatientID, ele.StudyInstanceUID, series_id, image_id, dcm_file.SeriesNumber, dcm_file.InstanceNumber]\n",
    "\n",
    "sample_submission_df = pd.read_csv('../input/siim-covid19-detection/sample_submission.csv')\n",
    "\n",
    "meles = []\n",
    "for id in np.unique(sample_submission_df.id.values):\n",
    "    if '_study' not in id:\n",
    "        continue\n",
    "    StudyInstanceUID = id.replace('_study', '')\n",
    "\n",
    "    if StudyInstanceUID in public_test_1200_study:\n",
    "        continue\n",
    "\n",
    "    for rdir, _, files in os.walk('../input/siim-covid19-detection/test/{}'.format(StudyInstanceUID)):\n",
    "        for file in files:\n",
    "            file_path = os.path.join(rdir, file)\n",
    "            filename, file_extension = os.path.splitext(file_path)\n",
    "            if file_extension in ['.dcm', '.dicom']:\n",
    "                meles.append(ME(StudyInstanceUID, file_path))\n",
    "\n",
    "p = Pool(4)\n",
    "results = p.map(func=dicom2image, iterable = meles)\n",
    "p.close()\n",
    "test_df = pd.DataFrame(data=np.array(results), columns=['patientid', 'studyid', 'series_id', 'imageid', 'SeriesNumber', 'InstanceNumber'])\n",
    "test_df.to_csv('./csv/test_df.csv', index=False)"
   ]
  },
  {
   "cell_type": "code",
   "execution_count": 7,
   "id": "printable-representative",
   "metadata": {
    "execution": {
     "iopub.execute_input": "2021-08-06T12:35:03.669541Z",
     "iopub.status.busy": "2021-08-06T12:35:03.666990Z",
     "iopub.status.idle": "2021-08-06T12:35:20.182365Z",
     "shell.execute_reply": "2021-08-06T12:35:20.181858Z",
     "shell.execute_reply.started": "2021-07-31T12:55:52.424373Z"
    },
    "papermill": {
     "duration": 16.612182,
     "end_time": "2021-08-06T12:35:20.182501",
     "exception": false,
     "start_time": "2021-08-06T12:35:03.570319",
     "status": "completed"
    },
    "tags": []
   },
   "outputs": [
    {
     "name": "stdout",
     "output_type": "stream",
     "text": [
      "Namespace(agnostic_nms=False, ckpt_dir='../input/siim-covid-checkpoints/detection_yolov5_lung', conf_thres=0.05, device='0', exist_ok=False, fold=3, hide_conf=False, hide_labels=False, img_size=512, iou_thres=0.5, line_thickness=3, name='exp', nosave=False, output_dir='./det_predictions', output_file_name='yolov5_lung_test_pred.pth', project='runs/detect', save_conf=False, save_crop=False, save_txt=False, source='./images', update=False, view_img=False, workers=16)\r\n",
      "100%|███████████████████████████████████████████| 14/14 [00:02<00:00,  5.83it/s]\r\n"
     ]
    }
   ],
   "source": [
    "############################################## crop lung area ##############################################\n",
    "### yolov5\n",
    "!cp -r ../input/siim-covid-src/detection_yolov5/* .\n",
    "!python predict_lung.py --ckpt_dir ../input/siim-covid-checkpoints/detection_yolov5_lung \\\n",
    "                        --output_dir ./det_predictions \\\n",
    "                        --output_file_name yolov5_lung_test_pred.pth \\\n",
    "                        --fold 3 \\\n",
    "                        --source ./images \\\n",
    "                        --img-size 512 \\\n",
    "                        --conf-thres 0.05 \\\n",
    "                        --iou-thres 0.5 \\\n",
    "                        --device 0\n",
    "!rm -rf ./utils ./models ./data *.py ./__pycache__"
   ]
  },
  {
   "cell_type": "code",
   "execution_count": 8,
   "id": "exotic-directory",
   "metadata": {
    "execution": {
     "iopub.execute_input": "2021-08-06T12:35:20.271759Z",
     "iopub.status.busy": "2021-08-06T12:35:20.266630Z",
     "iopub.status.idle": "2021-08-06T12:38:05.958395Z",
     "shell.execute_reply": "2021-08-06T12:38:05.957906Z",
     "shell.execute_reply.started": "2021-07-31T12:56:11.198206Z"
    },
    "papermill": {
     "duration": 165.74193,
     "end_time": "2021-08-06T12:38:05.958533",
     "exception": false,
     "start_time": "2021-08-06T12:35:20.216603",
     "status": "completed"
    },
    "tags": []
   },
   "outputs": [
    {
     "name": "stdout",
     "output_type": "stream",
     "text": [
      "Namespace(batch_size=96, cfg='./configs/eb5_512_deeplabv3plus.yaml', ckpt_dir='../input/siim-covid-checkpoints/classification_aux_v4', folds=[0, 1, 2, 3, 4], image_dir='./images', lung_pred_path='./det_predictions/yolov5_lung_test_pred.pth', num_tta=8, output_dir='./cls_predictions', test_df='./csv/test_df.csv', workers=2)\r\n",
      "{'encoder_name': 'timm-efficientnet-b5', 'encoder_weights': 'noisy-student', 'in_features': 2048, 'aux_image_size': 512, 'decoder': 'deeplabv3plus', 'decoder_channels': 256}\r\n",
      "Test size: 14\r\n",
      "100%|█████████████████████████████████████████████| 1/1 [00:16<00:00, 16.64s/it]\r\n",
      "Namespace(batch_size=96, cfg='./configs/seresnet152d_512_unet.yaml', ckpt_dir='../input/siim-covid-checkpoints/classification_aux_v4', folds=[0, 1, 2, 3, 4], image_dir='./images', lung_pred_path='./det_predictions/yolov5_lung_test_pred.pth', num_tta=8, output_dir='./cls_predictions', test_df='./csv/test_df.csv', workers=2)\r\n",
      "{'encoder_name': 'timm-seresnet152d_320', 'encoder_weights': 'imagenet', 'in_features': 2048, 'aux_image_size': 512, 'decoder': 'unet', 'decoder_channels': [256, 128, 64, 32, 16]}\r\n",
      "Test size: 14\r\n",
      "100%|█████████████████████████████████████████████| 1/1 [00:15<00:00, 15.44s/it]\r\n",
      "Namespace(batch_size=96, cfg='./configs/eb6_448_linknet.yaml', ckpt_dir='../input/siim-covid-checkpoints/classification_aux_v4', folds=[0, 1, 2, 3, 4], image_dir='./images', lung_pred_path='./det_predictions/yolov5_lung_test_pred.pth', num_tta=8, output_dir='./cls_predictions', test_df='./csv/test_df.csv', workers=2)\r\n",
      "{'encoder_name': 'timm-efficientnet-b6', 'encoder_weights': 'noisy-student', 'in_features': 2304, 'aux_image_size': 448, 'decoder': 'linknet', 'decoder_channels': [256, 128, 64, 32, 16]}\r\n",
      "Test size: 14\r\n",
      "100%|█████████████████████████████████████████████| 1/1 [00:10<00:00, 10.90s/it]\r\n",
      "Namespace(batch_size=64, cfg='./configs/eb7_512_unetplusplus.yaml', ckpt_dir='../input/siim-covid-checkpoints/classification_aux_v4', folds=[0, 1, 2, 3, 4], image_dir='./images', lung_pred_path='./det_predictions/yolov5_lung_test_pred.pth', num_tta=8, output_dir='./cls_predictions', test_df='./csv/test_df.csv', workers=2)\r\n",
      "{'encoder_name': 'timm-efficientnet-b7', 'encoder_weights': 'noisy-student', 'in_features': 2560, 'aux_image_size': 512, 'decoder': 'unetplusplus', 'decoder_channels': [256, 128, 64, 32, 16]}\r\n",
      "Test size: 14\r\n",
      "100%|█████████████████████████████████████████████| 1/1 [00:17<00:00, 17.82s/it]\r\n"
     ]
    }
   ],
   "source": [
    "############################################## study level prediction ##############################################\n",
    "!cp -r ../input/siim-covid-src/classification_aux/* .\n",
    "!python predict_test.py --test_df ./csv/test_df.csv \\\n",
    "                        --ckpt_dir ../input/siim-covid-checkpoints/classification_aux_v4 \\\n",
    "                        --image_dir ./images \\\n",
    "                        --lung_pred_path ./det_predictions/yolov5_lung_test_pred.pth \\\n",
    "                        --output_dir ./cls_predictions \\\n",
    "                        --cfg ./configs/eb5_512_deeplabv3plus.yaml \\\n",
    "                        --folds 0 1 2 3 4 \\\n",
    "                        --num_tta 8 \\\n",
    "                        --batch-size 96 \\\n",
    "                        --workers 2\n",
    "                        \n",
    "!python predict_test.py --test_df ./csv/test_df.csv \\\n",
    "                        --ckpt_dir ../input/siim-covid-checkpoints/classification_aux_v4 \\\n",
    "                        --image_dir ./images \\\n",
    "                        --lung_pred_path ./det_predictions/yolov5_lung_test_pred.pth \\\n",
    "                        --output_dir ./cls_predictions \\\n",
    "                        --cfg ./configs/seresnet152d_512_unet.yaml \\\n",
    "                        --folds 0 1 2 3 4 \\\n",
    "                        --num_tta 8 \\\n",
    "                        --batch-size 96 \\\n",
    "                        --workers 2\n",
    "\n",
    "!python predict_test.py --test_df ./csv/test_df.csv \\\n",
    "                        --ckpt_dir ../input/siim-covid-checkpoints/classification_aux_v4 \\\n",
    "                        --image_dir ./images \\\n",
    "                        --lung_pred_path ./det_predictions/yolov5_lung_test_pred.pth \\\n",
    "                        --output_dir ./cls_predictions \\\n",
    "                        --cfg ./configs/eb6_448_linknet.yaml \\\n",
    "                        --folds 0 1 2 3 4 \\\n",
    "                        --num_tta 8 \\\n",
    "                        --batch-size 96 \\\n",
    "                        --workers 2\n",
    "\n",
    "!python predict_test.py --test_df ./csv/test_df.csv \\\n",
    "                        --ckpt_dir ../input/siim-covid-checkpoints/classification_aux_v4 \\\n",
    "                        --image_dir ./images \\\n",
    "                        --lung_pred_path ./det_predictions/yolov5_lung_test_pred.pth \\\n",
    "                        --output_dir ./cls_predictions \\\n",
    "                        --cfg ./configs/eb7_512_unetplusplus.yaml \\\n",
    "                        --folds 0 1 2 3 4 \\\n",
    "                        --num_tta 8 \\\n",
    "                        --batch-size 64 \\\n",
    "                        --workers 2\n",
    "\n",
    "!rm -rf *.py ./segmentation_models_pytorch ./configs ./__pycache__"
   ]
  },
  {
   "cell_type": "code",
   "execution_count": 9,
   "id": "democratic-torture",
   "metadata": {
    "execution": {
     "iopub.execute_input": "2021-08-06T12:38:06.072285Z",
     "iopub.status.busy": "2021-08-06T12:38:06.061949Z",
     "iopub.status.idle": "2021-08-06T12:41:14.105756Z",
     "shell.execute_reply": "2021-08-06T12:41:14.104293Z",
     "shell.execute_reply.started": "2021-07-31T12:58:51.475714Z"
    },
    "papermill": {
     "duration": 188.108792,
     "end_time": "2021-08-06T12:41:14.105915",
     "exception": false,
     "start_time": "2021-08-06T12:38:05.997123",
     "status": "completed"
    },
    "tags": []
   },
   "outputs": [
    {
     "name": "stdout",
     "output_type": "stream",
     "text": [
      "Namespace(agnostic_nms=False, ckpt_dir='../input/siim-covid-checkpoints/detection_yolov5_v3', conf_thres=0.0005, device='0', exist_ok=False, folds=[0, 1, 2, 3, 4], hide_conf=False, hide_labels=False, img_size=768, iou_thres=0.5, line_thickness=3, name='exp', nosave=False, output_dir='./det_predictions', project='runs/detect', save_conf=False, save_crop=False, save_txt=False, source='./images', update=False, view_img=False, workers=16)\r\n",
      "******************** Fold 0 ********************\r\n",
      "******************** Fold 1 ********************\r\n",
      "******************** Fold 2 ********************\r\n",
      "******************** Fold 3 ********************\r\n",
      "******************** Fold 4 ********************\r\n",
      "100%|███████████████████████████████████████████| 14/14 [00:17<00:00,  1.23s/it]\r\n",
      "Namespace(batch_size=32, cfg='./configs/resnet200d.yaml', ckpt_dir='../input/siim-covid-checkpoints/detection_fasterrcnn_v3', folds=[0, 1, 2, 3, 4], image_dir='./images', output_dir='./det_predictions', test_df='./csv/test_df.csv', workers=2)\r\n",
      "{'backbone_name': 'resnet200d', 'in_features': 2048, 'aux_image_size': 768}\r\n",
      "******************** Fold 0 ********************\r\n",
      "******************** Fold 1 ********************\r\n",
      "******************** Fold 2 ********************\r\n",
      "******************** Fold 3 ********************\r\n",
      "******************** Fold 4 ********************\r\n",
      "100%|█████████████████████████████████████████████| 1/1 [00:25<00:00, 25.81s/it]\r\n",
      "Namespace(batch_size=24, cfg='./configs/resnet101d.yaml', ckpt_dir='../input/siim-covid-checkpoints/detection_fasterrcnn_v3', folds=[0, 1, 2, 3, 4], image_dir='./images', output_dir='./det_predictions', test_df='./csv/test_df.csv', workers=2)\r\n",
      "{'backbone_name': 'resnet101d', 'in_features': 2048, 'aux_image_size': 1024}\r\n",
      "******************** Fold 0 ********************\r\n",
      "******************** Fold 1 ********************\r\n",
      "******************** Fold 2 ********************\r\n",
      "******************** Fold 3 ********************\r\n",
      "******************** Fold 4 ********************\r\n",
      "100%|█████████████████████████████████████████████| 1/1 [00:21<00:00, 21.41s/it]\r\n",
      "******************** Fold 0 ********************\r\n",
      "Loaded state_dict_ema from checkpoint '../input/siim-covid-checkpoints/detection_efficientdet_v3/tf_efficientdet_d7_768_fold0/model_best.pth.tar'\r\n",
      "Model tf_efficientdet_d7 created, param count: 51563397\r\n",
      "Using native Torch AMP. Validating in mixed precision.\r\n",
      "******************** Fold 1 ********************\r\n",
      "Loaded state_dict_ema from checkpoint '../input/siim-covid-checkpoints/detection_efficientdet_v3/tf_efficientdet_d7_768_fold1/model_best.pth.tar'\r\n",
      "Model tf_efficientdet_d7 created, param count: 51563397\r\n",
      "Using native Torch AMP. Validating in mixed precision.\r\n",
      "******************** Fold 2 ********************\r\n",
      "Loaded state_dict_ema from checkpoint '../input/siim-covid-checkpoints/detection_efficientdet_v3/tf_efficientdet_d7_768_fold2/model_best.pth.tar'\r\n",
      "Model tf_efficientdet_d7 created, param count: 51563397\r\n",
      "Using native Torch AMP. Validating in mixed precision.\r\n",
      "******************** Fold 3 ********************\r\n",
      "Loaded state_dict_ema from checkpoint '../input/siim-covid-checkpoints/detection_efficientdet_v3/tf_efficientdet_d7_768_fold3/model_best.pth.tar'\r\n",
      "Model tf_efficientdet_d7 created, param count: 51563397\r\n",
      "Using native Torch AMP. Validating in mixed precision.\r\n",
      "******************** Fold 4 ********************\r\n",
      "Loaded state_dict_ema from checkpoint '../input/siim-covid-checkpoints/detection_efficientdet_v3/tf_efficientdet_d7_768_fold4/model_best.pth.tar'\r\n",
      "Model tf_efficientdet_d7 created, param count: 51563397\r\n",
      "Using native Torch AMP. Validating in mixed precision.\r\n",
      "100%|█████████████████████████████████████████████| 1/1 [00:17<00:00, 17.09s/it]\r\n"
     ]
    }
   ],
   "source": [
    "############################################## image level prediction ##############################################\n",
    "### yolov5\n",
    "!cp -r ../input/siim-covid-src/detection_yolov5/* .\n",
    "!python predict.py  --ckpt_dir ../input/siim-covid-checkpoints/detection_yolov5_v3 \\\n",
    "                    --output_dir ./det_predictions \\\n",
    "                    --folds 0 1 2 3 4 \\\n",
    "                    --source ./images \\\n",
    "                    --img-size 768 \\\n",
    "                    --conf-thres 0.0005 \\\n",
    "                    --iou-thres 0.5 \\\n",
    "                    --device 0\n",
    "!rm -rf ./utils ./models ./data *.py ./__pycache__\n",
    "\n",
    "### faster rcnn\n",
    "!cp -r ../input/siim-covid-src/detection_fasterrcnn/* .\n",
    "!python predict_test.py --test_df ./csv/test_df.csv \\\n",
    "                        --ckpt_dir ../input/siim-covid-checkpoints/detection_fasterrcnn_v3 \\\n",
    "                        --image_dir ./images \\\n",
    "                        --output_dir ./det_predictions \\\n",
    "                        --cfg ./configs/resnet200d.yaml \\\n",
    "                        --folds 0 1 2 3 4 \\\n",
    "                        --batch-size 32 \\\n",
    "                        --workers 2\n",
    "!python predict_test.py --test_df ./csv/test_df.csv \\\n",
    "                        --ckpt_dir ../input/siim-covid-checkpoints/detection_fasterrcnn_v3 \\\n",
    "                        --image_dir ./images \\\n",
    "                        --output_dir ./det_predictions \\\n",
    "                        --cfg ./configs/resnet101d.yaml \\\n",
    "                        --folds 0 1 2 3 4 \\\n",
    "                        --batch-size 24 \\\n",
    "                        --workers 2\n",
    "!rm -rf *.py ./configs ./__pycache__\n",
    "\n",
    "### efficient det\n",
    "!cp -r ../input/siim-covid-src/detection_efficientdet/* .\n",
    "!python predict_test.py --model tf_efficientdet_d7 \\\n",
    "                        --amp --use-ema --num-classes 1 --native-amp -b 24 \\\n",
    "                        --output_dir ./det_predictions \\\n",
    "                        --test_df ./csv/test_df.csv \\\n",
    "                        --ckpt_dir ../input/siim-covid-checkpoints/detection_efficientdet_v3 \\\n",
    "                        --image_dir ./images \\\n",
    "                        --folds 0 1 2 3 4 \\\n",
    "                        --image-size 768\n",
    "!rm -rf ./effdet *.py ./__pycache__"
   ]
  },
  {
   "cell_type": "code",
   "execution_count": 10,
   "id": "temporal-jackson",
   "metadata": {
    "execution": {
     "iopub.execute_input": "2021-08-06T12:41:14.213410Z",
     "iopub.status.busy": "2021-08-06T12:41:14.209087Z",
     "iopub.status.idle": "2021-08-06T12:41:14.846565Z",
     "shell.execute_reply": "2021-08-06T12:41:14.846128Z",
     "shell.execute_reply.started": "2021-07-31T13:01:59.228055Z"
    },
    "papermill": {
     "duration": 0.690945,
     "end_time": "2021-08-06T12:41:14.846702",
     "exception": false,
     "start_time": "2021-08-06T12:41:14.155757",
     "status": "completed"
    },
    "tags": []
   },
   "outputs": [],
   "source": [
    "### remove temporary image dir\n",
    "!rm -rf ./images"
   ]
  },
  {
   "cell_type": "code",
   "execution_count": 11,
   "id": "distinct-wisdom",
   "metadata": {
    "execution": {
     "iopub.execute_input": "2021-08-06T12:41:14.967882Z",
     "iopub.status.busy": "2021-08-06T12:41:14.964624Z",
     "iopub.status.idle": "2021-08-06T12:41:34.272463Z",
     "shell.execute_reply": "2021-08-06T12:41:34.272029Z",
     "shell.execute_reply.started": "2021-07-31T13:01:59.908224Z"
    },
    "papermill": {
     "duration": 19.375965,
     "end_time": "2021-08-06T12:41:34.272589",
     "exception": false,
     "start_time": "2021-08-06T12:41:14.896624",
     "status": "completed"
    },
    "tags": []
   },
   "outputs": [
    {
     "name": "stdout",
     "output_type": "stream",
     "text": [
      "(2477, 2)\n"
     ]
    },
    {
     "data": {
      "text/plain": [
       "0"
      ]
     },
     "execution_count": 11,
     "metadata": {},
     "output_type": "execute_result"
    }
   ],
   "source": [
    "submission_study_output = []\n",
    "submission_image_output = []\n",
    "############################################## combine study + image level prediction ##############################################\n",
    "test_df = pd.read_csv('./csv/test_df.csv')\n",
    "\n",
    "eb5_study_pred = torch.load('./cls_predictions/timm-efficientnet-b5_512_deeplabv3plus_aux_fold0_1_2_3_4_test_pred.pth')['pred_dict']\n",
    "eb6_study_pred = torch.load('./cls_predictions/timm-efficientnet-b6_448_linknet_aux_fold0_1_2_3_4_test_pred.pth')['pred_dict']\n",
    "eb7_study_pred = torch.load('./cls_predictions/timm-efficientnet-b7_512_unetplusplus_aux_fold0_1_2_3_4_test_pred.pth')['pred_dict']\n",
    "sr152_study_pred = torch.load('./cls_predictions/timm-seresnet152d_320_512_unet_aux_fold0_1_2_3_4_test_pred.pth')['pred_dict']\n",
    "\n",
    "for studyid, grp in test_df.groupby('studyid'):\n",
    "    preds = []\n",
    "    for _, row in grp.iterrows():\n",
    "        pred =  0.3*eb5_study_pred[row['imageid']] + \\\n",
    "                0.2*eb6_study_pred[row['imageid']] + \\\n",
    "                0.2*eb7_study_pred[row['imageid']] + \\\n",
    "                0.3*sr152_study_pred[row['imageid']]\n",
    "\n",
    "        preds.append(pred)\n",
    "        \n",
    "        boxes1, scores1, labels1, img_width, img_height = load_dict('./det_predictions/tf_efficientdet_d7_768_fold0_1_2_3_4_test_pred/{}.pkl'.format(row['imageid']))\n",
    "        \n",
    "        boxes2, scores2, labels2, img_width2, img_height2 = load_dict('./det_predictions/yolov5x6_768_fold0_1_2_3_4_test_pred/{}.pkl'.format(row['imageid']))\n",
    "        assert img_width2 == img_width and img_height2 == img_height\n",
    "\n",
    "        boxes3, scores3, labels3, img_width3, img_height3 = load_dict('./det_predictions/resnet200d_768_fold0_1_2_3_4_test_pred/{}.pkl'.format(row['imageid']))\n",
    "        assert img_width3 == img_width and img_height3 == img_height\n",
    "        \n",
    "        boxes4, scores4, labels4, img_width4, img_height4 = load_dict('./det_predictions/resnet101d_1024_fold0_1_2_3_4_test_pred/{}.pkl'.format(row['imageid']))\n",
    "        assert img_width4 == img_width and img_height4 == img_height\n",
    "        \n",
    "        boxes = boxes1 + boxes2 + boxes3 + boxes4\n",
    "        labels = labels1 + labels2 + labels3 + labels4\n",
    "\n",
    "        ### scale score of fasterrcnn to effdet and yolo score\n",
    "        scores3_tmp = []\n",
    "        for s in scores3:\n",
    "            tmp = [x*0.78 for x in s]\n",
    "            scores3_tmp.append(tmp)\n",
    "        scores3 = scores3_tmp\n",
    "        \n",
    "        scores4_tmp = []\n",
    "        for s in scores4:\n",
    "            tmp = [x*0.78 for x in s]\n",
    "            scores4_tmp.append(tmp)\n",
    "        scores4 = scores4_tmp\n",
    "\n",
    "        scores = scores1 + scores2 + scores3 + scores4\n",
    "\n",
    "        boxes, scores, labels = weighted_boxes_fusion(boxes, scores, labels, weights=None, iou_thr=0.6)\n",
    "        assert np.mean(labels) == 0\n",
    "        boxes = boxes.clip(0,1)\n",
    "\n",
    "        boxes[:,[0,2]] = boxes[:,[0,2]]*float(img_width)\n",
    "        boxes[:,[1,3]] = boxes[:,[1,3]]*float(img_height)\n",
    "        \n",
    "        neg_image_pred = 'none {} 0 0 1 1'.format(pred[0])\n",
    "        opacity_image_pred = []\n",
    "        for box, score in zip(boxes, scores):\n",
    "            opacity_image_pred.append('opacity {} {} {} {} {}'.format(score, box[0], box[1], box[2],box[3]))\n",
    "        image_pred = ' '.join([neg_image_pred] + opacity_image_pred)\n",
    "        submission_image_output.append(['{}_image'.format(row['imageid']), image_pred])\n",
    "\n",
    "    preds = np.array(preds)\n",
    "    preds = np.mean(preds, axis=0)\n",
    "\n",
    "    study_preds = []\n",
    "    for clsidx, clsname in enumerate(classes):\n",
    "        study_preds.append('{} {} 0 0 1 1'.format(study_submission_classes[clsname], preds[clsidx]))\n",
    "    study_preds = ' '.join(study_preds)\n",
    "    submission_study_output.append(['{}_study'.format(studyid), study_preds])\n",
    "\n",
    "del eb5_study_pred\n",
    "del eb6_study_pred\n",
    "del eb7_study_pred\n",
    "del sr152_study_pred\n",
    "\n",
    "submission_output = submission_study_output + submission_image_output\n",
    "sub_df = pd.DataFrame(data=np.array(submission_output), columns=['id','PredictionString'])\n",
    "\n",
    "public_test_1200_submission_df = pd.read_csv('./submission_1200_study.csv')\n",
    "\n",
    "sub_df = pd.concat([public_test_1200_submission_df, sub_df], ignore_index=True)\n",
    "sub_df.to_csv('submission.csv', index=False)\n",
    "print(sub_df.shape)\n",
    "\n",
    "del submission_output\n",
    "del submission_study_output\n",
    "del submission_image_output\n",
    "\n",
    "gc.collect()"
   ]
  },
  {
   "cell_type": "code",
   "execution_count": 12,
   "id": "accredited-accuracy",
   "metadata": {
    "execution": {
     "iopub.execute_input": "2021-08-06T12:41:34.385437Z",
     "iopub.status.busy": "2021-08-06T12:41:34.384778Z",
     "iopub.status.idle": "2021-08-06T12:41:35.065820Z",
     "shell.execute_reply": "2021-08-06T12:41:35.065303Z",
     "shell.execute_reply.started": "2021-07-31T13:02:21.025147Z"
    },
    "papermill": {
     "duration": 0.739565,
     "end_time": "2021-08-06T12:41:35.065965",
     "exception": false,
     "start_time": "2021-08-06T12:41:34.326400",
     "status": "completed"
    },
    "tags": []
   },
   "outputs": [],
   "source": [
    "### remove temporary prediction dir\n",
    "!rm -rf ./csv ./det_predictions ./cls_predictions ./submission_1200_study.csv"
   ]
  },
  {
   "cell_type": "code",
   "execution_count": 13,
   "id": "wireless-coaching",
   "metadata": {
    "execution": {
     "iopub.execute_input": "2021-08-06T12:41:35.184597Z",
     "iopub.status.busy": "2021-08-06T12:41:35.183640Z",
     "iopub.status.idle": "2021-08-06T12:41:35.191464Z",
     "shell.execute_reply": "2021-08-06T12:41:35.191073Z",
     "shell.execute_reply.started": "2021-07-31T13:02:21.66924Z"
    },
    "papermill": {
     "duration": 0.07116,
     "end_time": "2021-08-06T12:41:35.191570",
     "exception": false,
     "start_time": "2021-08-06T12:41:35.120410",
     "status": "completed"
    },
    "tags": []
   },
   "outputs": [
    {
     "data": {
      "text/html": [
       "<div>\n",
       "<style scoped>\n",
       "    .dataframe tbody tr th:only-of-type {\n",
       "        vertical-align: middle;\n",
       "    }\n",
       "\n",
       "    .dataframe tbody tr th {\n",
       "        vertical-align: top;\n",
       "    }\n",
       "\n",
       "    .dataframe thead th {\n",
       "        text-align: right;\n",
       "    }\n",
       "</style>\n",
       "<table border=\"1\" class=\"dataframe\">\n",
       "  <thead>\n",
       "    <tr style=\"text-align: right;\">\n",
       "      <th></th>\n",
       "      <th>id</th>\n",
       "      <th>PredictionString</th>\n",
       "    </tr>\n",
       "  </thead>\n",
       "  <tbody>\n",
       "    <tr>\n",
       "      <th>0</th>\n",
       "      <td>028abd3504b6_study</td>\n",
       "      <td>negative 0.1678466796875 0 0 1 1 typical 0.645...</td>\n",
       "    </tr>\n",
       "    <tr>\n",
       "      <th>1</th>\n",
       "      <td>02ee3a9820eb_study</td>\n",
       "      <td>negative 0.01250457763671875 0 0 1 1 typical 0...</td>\n",
       "    </tr>\n",
       "    <tr>\n",
       "      <th>2</th>\n",
       "      <td>0321bb7f84b5_study</td>\n",
       "      <td>negative 0.9228515625 0 0 1 1 typical 0.033172...</td>\n",
       "    </tr>\n",
       "    <tr>\n",
       "      <th>3</th>\n",
       "      <td>03e0a59d9b8a_study</td>\n",
       "      <td>negative 0.1072998046875 0 0 1 1 typical 0.583...</td>\n",
       "    </tr>\n",
       "    <tr>\n",
       "      <th>4</th>\n",
       "      <td>03fc9ec0dba8_study</td>\n",
       "      <td>negative 0.9326171875 0 0 1 1 typical 0.021499...</td>\n",
       "    </tr>\n",
       "  </tbody>\n",
       "</table>\n",
       "</div>"
      ],
      "text/plain": [
       "                   id                                   PredictionString\n",
       "0  028abd3504b6_study  negative 0.1678466796875 0 0 1 1 typical 0.645...\n",
       "1  02ee3a9820eb_study  negative 0.01250457763671875 0 0 1 1 typical 0...\n",
       "2  0321bb7f84b5_study  negative 0.9228515625 0 0 1 1 typical 0.033172...\n",
       "3  03e0a59d9b8a_study  negative 0.1072998046875 0 0 1 1 typical 0.583...\n",
       "4  03fc9ec0dba8_study  negative 0.9326171875 0 0 1 1 typical 0.021499..."
      ]
     },
     "execution_count": 13,
     "metadata": {},
     "output_type": "execute_result"
    }
   ],
   "source": [
    "sub_df.head()"
   ]
  }
 ],
 "metadata": {
  "kernelspec": {
   "display_name": "Python 3",
   "language": "python",
   "name": "python3"
  },
  "language_info": {
   "codemirror_mode": {
    "name": "ipython",
    "version": 3
   },
   "file_extension": ".py",
   "mimetype": "text/x-python",
   "name": "python",
   "nbconvert_exporter": "python",
   "pygments_lexer": "ipython3",
   "version": "3.7.10"
  },
  "papermill": {
   "default_parameters": {},
   "duration": 612.827705,
   "end_time": "2021-08-06T12:41:36.726970",
   "environment_variables": {},
   "exception": null,
   "input_path": "__notebook__.ipynb",
   "output_path": "__notebook__.ipynb",
   "parameters": {},
   "start_time": "2021-08-06T12:31:23.899265",
   "version": "2.3.3"
  }
 },
 "nbformat": 4,
 "nbformat_minor": 5
}
